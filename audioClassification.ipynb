{
  "nbformat": 4,
  "nbformat_minor": 0,
  "metadata": {
    "colab": {
      "name": "audioClassification",
      "provenance": [],
      "mount_file_id": "1IWhdNzMH2eq_5xiik5dv1fUoTagAAmjx",
      "authorship_tag": "ABX9TyN1jlHtnYeI/+6UKNdJ1CnH",
      "include_colab_link": true
    },
    "kernelspec": {
      "display_name": "Python 3",
      "name": "python3"
    }
  },
  "cells": [
    {
      "cell_type": "markdown",
      "metadata": {
        "id": "view-in-github",
        "colab_type": "text"
      },
      "source": [
        "<a href=\"https://colab.research.google.com/github/Faur4n/smallworld.js/blob/master/audioClassification.ipynb\" target=\"_parent\"><img src=\"https://colab.research.google.com/assets/colab-badge.svg\" alt=\"Open In Colab\"/></a>"
      ]
    },
    {
      "cell_type": "code",
      "metadata": {
        "id": "OVOrTbeF3K5N"
      },
      "source": [
        "import tarfile"
      ],
      "execution_count": 3,
      "outputs": []
    },
    {
      "cell_type": "code",
      "metadata": {
        "colab": {
          "base_uri": "https://localhost:8080/",
          "height": 0
        },
        "id": "s5DGA0bYQGpR",
        "outputId": "f543af6a-604f-464f-95e3-a4c1ac4e5682"
      },
      "source": [
        "!wget 'http://opihi.cs.uvic.ca/sound/genres.tar.gz'"
      ],
      "execution_count": 2,
      "outputs": [
        {
          "output_type": "stream",
          "text": [
            "--2021-02-01 18:26:56--  http://opihi.cs.uvic.ca/sound/genres.tar.gz\n",
            "Resolving opihi.cs.uvic.ca (opihi.cs.uvic.ca)... 142.104.68.135\n",
            "Connecting to opihi.cs.uvic.ca (opihi.cs.uvic.ca)|142.104.68.135|:80... connected.\n",
            "HTTP request sent, awaiting response... 200 OK\n",
            "Length: 1225571541 (1.1G) [application/x-gzip]\n",
            "Saving to: ‘genres.tar.gz’\n",
            "\n",
            "genres.tar.gz       100%[===================>]   1.14G  2.08MB/s    in 9m 20s  \n",
            "\n",
            "2021-02-01 18:36:16 (2.09 MB/s) - ‘genres.tar.gz’ saved [1225571541/1225571541]\n",
            "\n"
          ],
          "name": "stdout"
        }
      ]
    },
    {
      "cell_type": "code",
      "metadata": {
        "id": "EwmByscR2UwQ"
      },
      "source": [
        "dataset_file_name = './genres.tar.gz'\r\n",
        "with tarfile.open(dataset_file_name, 'r') as tar_file:\r\n",
        "    tar_file.extractall('./genres')"
      ],
      "execution_count": 8,
      "outputs": []
    },
    {
      "cell_type": "code",
      "metadata": {
        "id": "46TsB75G2vHy"
      },
      "source": [
        "path_to_dataset = \"./genres/genres\""
      ],
      "execution_count": 9,
      "outputs": []
    },
    {
      "cell_type": "code",
      "metadata": {
        "id": "nKmSemBr5XBc"
      },
      "source": [
        "import librosa\r\n",
        "import pandas as pd\r\n",
        "import numpy as np\r\n",
        "import matplotlib.pyplot as plt\r\n",
        "%matplotlib inline\r\n",
        "import os\r\n",
        "from PIL import Image\r\n",
        "import pathlib\r\n",
        "from sklearn.model_selection import train_test_split\r\n",
        "import csv\r\n",
        "from sklearn.preprocessing import LabelEncoder, StandardScaler\r\n",
        "import keras\r\n",
        "from keras import layers\r\n",
        "from keras.models import Sequential\r\n",
        "import warnings\r\n",
        "warnings.filterwarnings('ignore')"
      ],
      "execution_count": 27,
      "outputs": []
    },
    {
      "cell_type": "code",
      "metadata": {
        "colab": {
          "base_uri": "https://localhost:8080/",
          "height": 34
        },
        "id": "QWCHXOLQ5XEq",
        "outputId": "0e0094c0-7454-430d-b444-07463c62cf3f"
      },
      "source": [
        "cmap = plt.get_cmap('inferno')\r\n",
        "plt.figure(figsize=(8,8))\r\n",
        "genres = 'blues classical country disco hiphop jazz metal pop reggae rock'.split()\r\n",
        "for g in genres:\r\n",
        "    pathlib.Path(f'img_data/{g}').mkdir(parents=True, exist_ok=True)\r\n",
        "    for filename in os.listdir(f'./genres/genres/{g}'):\r\n",
        "        songname = f'./genres/genres/{g}/{filename}'\r\n",
        "        y, sr = librosa.load(songname, mono=True, duration=5)\r\n",
        "        plt.specgram(y, NFFT=2048, Fs=2, Fc=0, noverlap=128, cmap=cmap, sides='default', mode='default', scale='dB');\r\n",
        "        plt.axis('off');\r\n",
        "        plt.savefig(f'img_data/{g}/{filename[:-3].replace(\".\", \"\")}.png')\r\n",
        "        plt.clf()"
      ],
      "execution_count": 19,
      "outputs": [
        {
          "output_type": "display_data",
          "data": {
            "text/plain": [
              "<Figure size 576x576 with 0 Axes>"
            ]
          },
          "metadata": {
            "tags": []
          }
        }
      ]
    },
    {
      "cell_type": "code",
      "metadata": {
        "id": "zwpUe-3K7SKJ"
      },
      "source": [
        "header = 'filename chroma_stft rmse spectral_centroid spectral_bandwidth rolloff zero_crossing_rate'\r\n",
        "for i in range(1, 21):\r\n",
        "    header += f' mfcc{i}'\r\n",
        "header += ' label'\r\n",
        "header = header.split()"
      ],
      "execution_count": 21,
      "outputs": []
    },
    {
      "cell_type": "code",
      "metadata": {
        "id": "LvyBlaSU7jV9"
      },
      "source": [
        "file = open('dataset.csv', 'w', newline='')\r\n",
        "with file:\r\n",
        "    writer = csv.writer(file)\r\n",
        "    writer.writerow(header)\r\n",
        "genres = 'blues classical country disco hiphop jazz metal pop reggae rock'.split()\r\n",
        "for g in genres:\r\n",
        "    for filename in os.listdir(f'./genres/genres/{g}'):\r\n",
        "        songname = f'./genres/genres/{g}/{filename}'\r\n",
        "        y, sr = librosa.load(songname, mono=True, duration=30)\r\n",
        "        rmse = librosa.feature.rms(y=y)\r\n",
        "        chroma_stft = librosa.feature.chroma_stft(y=y, sr=sr)\r\n",
        "        spec_cent = librosa.feature.spectral_centroid(y=y, sr=sr)\r\n",
        "        spec_bw = librosa.feature.spectral_bandwidth(y=y, sr=sr)\r\n",
        "        rolloff = librosa.feature.spectral_rolloff(y=y, sr=sr)\r\n",
        "        zcr = librosa.feature.zero_crossing_rate(y)\r\n",
        "        mfcc = librosa.feature.mfcc(y=y, sr=sr)\r\n",
        "        to_append = f'{filename} {np.mean(chroma_stft)} {np.mean(rmse)} {np.mean(spec_cent)} {np.mean(spec_bw)} {np.mean(rolloff)} {np.mean(zcr)}'    \r\n",
        "        for e in mfcc:\r\n",
        "            to_append += f' {np.mean(e)}'\r\n",
        "        to_append += f' {g}'\r\n",
        "        file = open('dataset.csv', 'a', newline='')\r\n",
        "        with file:\r\n",
        "            writer = csv.writer(file)\r\n",
        "            writer.writerow(to_append.split())"
      ],
      "execution_count": 30,
      "outputs": []
    },
    {
      "cell_type": "code",
      "metadata": {
        "colab": {
          "base_uri": "https://localhost:8080/"
        },
        "id": "hRFtI_3--TNV",
        "outputId": "2baa3747-59e1-4435-ceb6-6446585578c2"
      },
      "source": [
        "data = pd.read_csv('dataset.csv')\r\n",
        "data.head()# Dropping unneccesary columns\r\n",
        "data = data.drop(['filename'],axis=1)#Encoding the Labels\r\n",
        "genre_list = data.iloc[:, -1]\r\n",
        "encoder = LabelEncoder()\r\n",
        "y = encoder.fit_transform(genre_list)#Scaling the Feature columns\r\n",
        "scaler = StandardScaler()\r\n",
        "X = scaler.fit_transform(np.array(data.iloc[:, :-1], dtype = float))#Dividing data into training and Testing set\r\n",
        "X_train, X_test, y_train, y_test = train_test_split(X, y, test_size=0.2)"
      ],
      "execution_count": 62,
      "outputs": [
        {
          "output_type": "stream",
          "text": [
            "[[-1.33153204 -0.78071653 -0.92813583 ...  0.80767322  1.92866969\n",
            "  -0.40594754]\n",
            " [-1.28157251 -0.75513785 -0.53705433 ... -0.72431331  1.39064139\n",
            "  -0.818202  ]\n",
            " [-1.07414927 -0.63526038 -1.52635494 ... -0.82100149  0.82064344\n",
            "   0.14644108]\n",
            " ...\n",
            " [ 0.89609041 -0.26726183  0.59412565 ... -1.10874368 -0.65930886\n",
            "  -0.9672601 ]\n",
            " [-0.94993909 -0.66167885  0.32918408 ...  1.1866065   0.65356702\n",
            "   0.72200567]\n",
            " [ 0.30145605  0.52694153 -0.37495042 ...  0.7060528  -1.53020522\n",
            "   0.47664613]]\n"
          ],
          "name": "stdout"
        }
      ]
    },
    {
      "cell_type": "code",
      "metadata": {
        "id": "BaT7PLAZ-Xg7"
      },
      "source": [
        "model = Sequential()\r\n",
        "model.add(layers.Dense(256, activation='relu', input_shape=(X_train.shape[1],)))\r\n",
        "model.add(layers.Dense(128, activation='relu'))\r\n",
        "model.add(layers.Dense(64, activation='relu'))\r\n",
        "model.add(layers.Dense(10, activation='softmax'))\r\n",
        "model.compile(optimizer='adam',\r\n",
        "              loss='sparse_categorical_crossentropy',\r\n",
        "              metrics=['accuracy'])"
      ],
      "execution_count": 33,
      "outputs": []
    },
    {
      "cell_type": "code",
      "metadata": {
        "colab": {
          "base_uri": "https://localhost:8080/",
          "height": 0
        },
        "id": "ND6NgTms-c2V",
        "outputId": "ae3ee5f8-3331-4bc5-ee4e-d11f3c73a109"
      },
      "source": [
        "classifier = model.fit(X_train,\r\n",
        "                    y_train,\r\n",
        "                    epochs=100,\r\n",
        "                    batch_size=128)"
      ],
      "execution_count": 34,
      "outputs": [
        {
          "output_type": "stream",
          "text": [
            "Epoch 1/100\n",
            "7/7 [==============================] - 1s 4ms/step - loss: 2.2396 - accuracy: 0.2095\n",
            "Epoch 2/100\n",
            "7/7 [==============================] - 0s 3ms/step - loss: 1.9313 - accuracy: 0.3439\n",
            "Epoch 3/100\n",
            "7/7 [==============================] - 0s 4ms/step - loss: 1.7164 - accuracy: 0.3810\n",
            "Epoch 4/100\n",
            "7/7 [==============================] - 0s 5ms/step - loss: 1.4910 - accuracy: 0.4968\n",
            "Epoch 5/100\n",
            "7/7 [==============================] - 0s 5ms/step - loss: 1.3571 - accuracy: 0.5708\n",
            "Epoch 6/100\n",
            "7/7 [==============================] - 0s 5ms/step - loss: 1.2007 - accuracy: 0.6117\n",
            "Epoch 7/100\n",
            "7/7 [==============================] - 0s 4ms/step - loss: 1.0762 - accuracy: 0.6702\n",
            "Epoch 8/100\n",
            "7/7 [==============================] - 0s 4ms/step - loss: 0.9838 - accuracy: 0.6692\n",
            "Epoch 9/100\n",
            "7/7 [==============================] - 0s 4ms/step - loss: 0.9107 - accuracy: 0.7168\n",
            "Epoch 10/100\n",
            "7/7 [==============================] - 0s 5ms/step - loss: 0.8575 - accuracy: 0.7139\n",
            "Epoch 11/100\n",
            "7/7 [==============================] - 0s 4ms/step - loss: 0.8120 - accuracy: 0.7317\n",
            "Epoch 12/100\n",
            "7/7 [==============================] - 0s 6ms/step - loss: 0.7762 - accuracy: 0.7574\n",
            "Epoch 13/100\n",
            "7/7 [==============================] - 0s 5ms/step - loss: 0.7260 - accuracy: 0.7661\n",
            "Epoch 14/100\n",
            "7/7 [==============================] - 0s 5ms/step - loss: 0.6796 - accuracy: 0.7876\n",
            "Epoch 15/100\n",
            "7/7 [==============================] - 0s 4ms/step - loss: 0.6685 - accuracy: 0.7915\n",
            "Epoch 16/100\n",
            "7/7 [==============================] - 0s 4ms/step - loss: 0.5943 - accuracy: 0.8072\n",
            "Epoch 17/100\n",
            "7/7 [==============================] - 0s 4ms/step - loss: 0.5838 - accuracy: 0.8140\n",
            "Epoch 18/100\n",
            "7/7 [==============================] - 0s 5ms/step - loss: 0.5536 - accuracy: 0.8273\n",
            "Epoch 19/100\n",
            "7/7 [==============================] - 0s 4ms/step - loss: 0.5255 - accuracy: 0.8198\n",
            "Epoch 20/100\n",
            "7/7 [==============================] - 0s 4ms/step - loss: 0.5144 - accuracy: 0.8288\n",
            "Epoch 21/100\n",
            "7/7 [==============================] - 0s 4ms/step - loss: 0.5153 - accuracy: 0.8373\n",
            "Epoch 22/100\n",
            "7/7 [==============================] - 0s 4ms/step - loss: 0.4738 - accuracy: 0.8606\n",
            "Epoch 23/100\n",
            "7/7 [==============================] - 0s 4ms/step - loss: 0.4280 - accuracy: 0.8705\n",
            "Epoch 24/100\n",
            "7/7 [==============================] - 0s 4ms/step - loss: 0.4221 - accuracy: 0.8805\n",
            "Epoch 25/100\n",
            "7/7 [==============================] - 0s 4ms/step - loss: 0.4043 - accuracy: 0.8748\n",
            "Epoch 26/100\n",
            "7/7 [==============================] - 0s 4ms/step - loss: 0.3756 - accuracy: 0.8925\n",
            "Epoch 27/100\n",
            "7/7 [==============================] - 0s 4ms/step - loss: 0.3768 - accuracy: 0.8878\n",
            "Epoch 28/100\n",
            "7/7 [==============================] - 0s 5ms/step - loss: 0.3775 - accuracy: 0.8885\n",
            "Epoch 29/100\n",
            "7/7 [==============================] - 0s 4ms/step - loss: 0.3192 - accuracy: 0.9298\n",
            "Epoch 30/100\n",
            "7/7 [==============================] - 0s 4ms/step - loss: 0.3038 - accuracy: 0.9340\n",
            "Epoch 31/100\n",
            "7/7 [==============================] - 0s 4ms/step - loss: 0.3078 - accuracy: 0.9212\n",
            "Epoch 32/100\n",
            "7/7 [==============================] - 0s 4ms/step - loss: 0.2971 - accuracy: 0.9332\n",
            "Epoch 33/100\n",
            "7/7 [==============================] - 0s 4ms/step - loss: 0.2788 - accuracy: 0.9419\n",
            "Epoch 34/100\n",
            "7/7 [==============================] - 0s 4ms/step - loss: 0.2614 - accuracy: 0.9366\n",
            "Epoch 35/100\n",
            "7/7 [==============================] - 0s 5ms/step - loss: 0.2566 - accuracy: 0.9412\n",
            "Epoch 36/100\n",
            "7/7 [==============================] - 0s 4ms/step - loss: 0.2374 - accuracy: 0.9478\n",
            "Epoch 37/100\n",
            "7/7 [==============================] - 0s 4ms/step - loss: 0.2189 - accuracy: 0.9533\n",
            "Epoch 38/100\n",
            "7/7 [==============================] - 0s 4ms/step - loss: 0.2058 - accuracy: 0.9622\n",
            "Epoch 39/100\n",
            "7/7 [==============================] - 0s 4ms/step - loss: 0.1921 - accuracy: 0.9681\n",
            "Epoch 40/100\n",
            "7/7 [==============================] - 0s 4ms/step - loss: 0.1958 - accuracy: 0.9685\n",
            "Epoch 41/100\n",
            "7/7 [==============================] - 0s 4ms/step - loss: 0.1741 - accuracy: 0.9648\n",
            "Epoch 42/100\n",
            "7/7 [==============================] - 0s 5ms/step - loss: 0.1621 - accuracy: 0.9747\n",
            "Epoch 43/100\n",
            "7/7 [==============================] - 0s 4ms/step - loss: 0.1488 - accuracy: 0.9745\n",
            "Epoch 44/100\n",
            "7/7 [==============================] - 0s 4ms/step - loss: 0.1421 - accuracy: 0.9814\n",
            "Epoch 45/100\n",
            "7/7 [==============================] - 0s 4ms/step - loss: 0.1401 - accuracy: 0.9705\n",
            "Epoch 46/100\n",
            "7/7 [==============================] - 0s 5ms/step - loss: 0.1381 - accuracy: 0.9844\n",
            "Epoch 47/100\n",
            "7/7 [==============================] - 0s 4ms/step - loss: 0.1215 - accuracy: 0.9837\n",
            "Epoch 48/100\n",
            "7/7 [==============================] - 0s 5ms/step - loss: 0.1163 - accuracy: 0.9806\n",
            "Epoch 49/100\n",
            "7/7 [==============================] - 0s 5ms/step - loss: 0.1048 - accuracy: 0.9882\n",
            "Epoch 50/100\n",
            "7/7 [==============================] - 0s 4ms/step - loss: 0.1050 - accuracy: 0.9851\n",
            "Epoch 51/100\n",
            "7/7 [==============================] - 0s 4ms/step - loss: 0.0959 - accuracy: 0.9934\n",
            "Epoch 52/100\n",
            "7/7 [==============================] - 0s 4ms/step - loss: 0.0886 - accuracy: 0.9878\n",
            "Epoch 53/100\n",
            "7/7 [==============================] - 0s 4ms/step - loss: 0.0842 - accuracy: 0.9933\n",
            "Epoch 54/100\n",
            "7/7 [==============================] - 0s 4ms/step - loss: 0.0824 - accuracy: 0.9909\n",
            "Epoch 55/100\n",
            "7/7 [==============================] - 0s 6ms/step - loss: 0.0714 - accuracy: 0.9936\n",
            "Epoch 56/100\n",
            "7/7 [==============================] - 0s 4ms/step - loss: 0.0702 - accuracy: 0.9946\n",
            "Epoch 57/100\n",
            "7/7 [==============================] - 0s 4ms/step - loss: 0.0670 - accuracy: 0.9961\n",
            "Epoch 58/100\n",
            "7/7 [==============================] - 0s 4ms/step - loss: 0.0640 - accuracy: 0.9944\n",
            "Epoch 59/100\n",
            "7/7 [==============================] - 0s 4ms/step - loss: 0.0600 - accuracy: 0.9953\n",
            "Epoch 60/100\n",
            "7/7 [==============================] - 0s 4ms/step - loss: 0.0604 - accuracy: 0.9976\n",
            "Epoch 61/100\n",
            "7/7 [==============================] - 0s 5ms/step - loss: 0.0576 - accuracy: 0.9945\n",
            "Epoch 62/100\n",
            "7/7 [==============================] - 0s 5ms/step - loss: 0.0516 - accuracy: 0.9997\n",
            "Epoch 63/100\n",
            "7/7 [==============================] - 0s 4ms/step - loss: 0.0484 - accuracy: 0.9981\n",
            "Epoch 64/100\n",
            "7/7 [==============================] - 0s 4ms/step - loss: 0.0463 - accuracy: 0.9982\n",
            "Epoch 65/100\n",
            "7/7 [==============================] - 0s 4ms/step - loss: 0.0427 - accuracy: 0.9987\n",
            "Epoch 66/100\n",
            "7/7 [==============================] - 0s 4ms/step - loss: 0.0436 - accuracy: 0.9974\n",
            "Epoch 67/100\n",
            "7/7 [==============================] - 0s 5ms/step - loss: 0.0395 - accuracy: 0.9961\n",
            "Epoch 68/100\n",
            "7/7 [==============================] - 0s 4ms/step - loss: 0.0378 - accuracy: 0.9990\n",
            "Epoch 69/100\n",
            "7/7 [==============================] - 0s 4ms/step - loss: 0.0366 - accuracy: 0.9973\n",
            "Epoch 70/100\n",
            "7/7 [==============================] - 0s 5ms/step - loss: 0.0340 - accuracy: 0.9986\n",
            "Epoch 71/100\n",
            "7/7 [==============================] - 0s 5ms/step - loss: 0.0357 - accuracy: 0.9983\n",
            "Epoch 72/100\n",
            "7/7 [==============================] - 0s 4ms/step - loss: 0.0318 - accuracy: 0.9977\n",
            "Epoch 73/100\n",
            "7/7 [==============================] - 0s 4ms/step - loss: 0.0301 - accuracy: 0.9978\n",
            "Epoch 74/100\n",
            "7/7 [==============================] - 0s 4ms/step - loss: 0.0265 - accuracy: 0.9981\n",
            "Epoch 75/100\n",
            "7/7 [==============================] - 0s 4ms/step - loss: 0.0255 - accuracy: 0.9993\n",
            "Epoch 76/100\n",
            "7/7 [==============================] - 0s 4ms/step - loss: 0.0254 - accuracy: 0.9991\n",
            "Epoch 77/100\n",
            "7/7 [==============================] - 0s 4ms/step - loss: 0.0253 - accuracy: 0.9991\n",
            "Epoch 78/100\n",
            "7/7 [==============================] - 0s 5ms/step - loss: 0.0237 - accuracy: 0.9981\n",
            "Epoch 79/100\n",
            "7/7 [==============================] - 0s 4ms/step - loss: 0.0207 - accuracy: 0.9993\n",
            "Epoch 80/100\n",
            "7/7 [==============================] - 0s 6ms/step - loss: 0.0220 - accuracy: 0.9988\n",
            "Epoch 81/100\n",
            "7/7 [==============================] - 0s 7ms/step - loss: 0.0197 - accuracy: 0.9993\n",
            "Epoch 82/100\n",
            "7/7 [==============================] - 0s 6ms/step - loss: 0.0205 - accuracy: 0.9988\n",
            "Epoch 83/100\n",
            "7/7 [==============================] - 0s 4ms/step - loss: 0.0200 - accuracy: 0.9995\n",
            "Epoch 84/100\n",
            "7/7 [==============================] - 0s 4ms/step - loss: 0.0201 - accuracy: 0.9988\n",
            "Epoch 85/100\n",
            "7/7 [==============================] - 0s 4ms/step - loss: 0.0189 - accuracy: 0.9978\n",
            "Epoch 86/100\n",
            "7/7 [==============================] - 0s 4ms/step - loss: 0.0176 - accuracy: 0.9988\n",
            "Epoch 87/100\n",
            "7/7 [==============================] - 0s 4ms/step - loss: 0.0176 - accuracy: 0.9991\n",
            "Epoch 88/100\n",
            "7/7 [==============================] - 0s 4ms/step - loss: 0.0184 - accuracy: 0.9966\n",
            "Epoch 89/100\n",
            "7/7 [==============================] - 0s 4ms/step - loss: 0.0141 - accuracy: 0.9997\n",
            "Epoch 90/100\n",
            "7/7 [==============================] - 0s 6ms/step - loss: 0.0213 - accuracy: 0.9991\n",
            "Epoch 91/100\n",
            "7/7 [==============================] - 0s 4ms/step - loss: 0.0260 - accuracy: 0.9968\n",
            "Epoch 92/100\n",
            "7/7 [==============================] - 0s 4ms/step - loss: 0.0184 - accuracy: 0.9995\n",
            "Epoch 93/100\n",
            "7/7 [==============================] - 0s 4ms/step - loss: 0.0179 - accuracy: 0.9993\n",
            "Epoch 94/100\n",
            "7/7 [==============================] - 0s 4ms/step - loss: 0.0133 - accuracy: 0.9993\n",
            "Epoch 95/100\n",
            "7/7 [==============================] - 0s 3ms/step - loss: 0.0144 - accuracy: 0.9988\n",
            "Epoch 96/100\n",
            "7/7 [==============================] - 0s 4ms/step - loss: 0.0126 - accuracy: 0.9997\n",
            "Epoch 97/100\n",
            "7/7 [==============================] - 0s 3ms/step - loss: 0.0185 - accuracy: 0.9985\n",
            "Epoch 98/100\n",
            "7/7 [==============================] - 0s 4ms/step - loss: 0.0522 - accuracy: 0.9863\n",
            "Epoch 99/100\n",
            "7/7 [==============================] - 0s 4ms/step - loss: 0.0519 - accuracy: 0.9852\n",
            "Epoch 100/100\n",
            "7/7 [==============================] - 0s 5ms/step - loss: 0.0280 - accuracy: 0.9969\n"
          ],
          "name": "stdout"
        }
      ]
    },
    {
      "cell_type": "code",
      "metadata": {
        "colab": {
          "base_uri": "https://localhost:8080/",
          "height": 407
        },
        "id": "KquWrcM3-fex",
        "outputId": "c82b4084-012c-4b8f-ad43-3f9fc3e16d6d"
      },
      "source": [
        "filename = \"metal.00000.wav\"\r\n",
        "songname =  f'./genres/genres/metal/{filename}'\r\n",
        "y, sr = librosa.load(songname, mono=True, duration=30)\r\n",
        "rmse = librosa.feature.rms(y=y)\r\n",
        "chroma_stft = librosa.feature.chroma_stft(y=y, sr=sr)\r\n",
        "spec_cent = librosa.feature.spectral_centroid(y=y, sr=sr)\r\n",
        "spec_bw = librosa.feature.spectral_bandwidth(y=y, sr=sr)\r\n",
        "rolloff = librosa.feature.spectral_rolloff(y=y, sr=sr)\r\n",
        "zcr = librosa.feature.zero_crossing_rate(y)\r\n",
        "mfcc = librosa.feature.mfcc(y=y, sr=sr)\r\n",
        "to_append = f'{filename} {np.mean(chroma_stft)} {np.mean(rmse)} {np.mean(spec_cent)} {np.mean(spec_bw)} {np.mean(rolloff)} {np.mean(zcr)}'    \r\n",
        "for e in mfcc:\r\n",
        "  to_append += f' {np.mean(e)}'\r\n",
        "to_append += f' {g}'\r\n",
        "print(to_append)\r\n",
        "X = model.predict()\r\n",
        "print(X)\r\n"
      ],
      "execution_count": 61,
      "outputs": [
        {
          "output_type": "stream",
          "text": [
            "metal.00000.wav 0.48779988288879395 0.11614155024290085 3274.342156991105 2722.3163670049926 6407.227923035991 0.18307976973684212 -52.901485443115234 50.085777282714844 -11.487131118774414 46.34990692138672 6.55136251449585 10.126185417175293 5.481246471405029 8.855128288269043 5.941895961761475 6.6232781410217285 -4.045888900756836 9.771428108215332 -3.1174025535583496 3.6594033241271973 -6.5072832107543945 1.087841510772705 -4.485400676727295 4.725541114807129 -2.7550318241119385 0.5059655904769897 blues\n"
          ],
          "name": "stdout"
        },
        {
          "output_type": "error",
          "ename": "IndexError",
          "evalue": "ignored",
          "traceback": [
            "\u001b[0;31m---------------------------------------------------------------------------\u001b[0m",
            "\u001b[0;31mIndexError\u001b[0m                                Traceback (most recent call last)",
            "\u001b[0;32m<ipython-input-61-c4bb0c42f4a3>\u001b[0m in \u001b[0;36m<module>\u001b[0;34m()\u001b[0m\n\u001b[1;32m     14\u001b[0m \u001b[0mto_append\u001b[0m \u001b[0;34m+=\u001b[0m \u001b[0;34mf' {g}'\u001b[0m\u001b[0;34m\u001b[0m\u001b[0;34m\u001b[0m\u001b[0m\n\u001b[1;32m     15\u001b[0m \u001b[0mprint\u001b[0m\u001b[0;34m(\u001b[0m\u001b[0mto_append\u001b[0m\u001b[0;34m)\u001b[0m\u001b[0;34m\u001b[0m\u001b[0;34m\u001b[0m\u001b[0m\n\u001b[0;32m---> 16\u001b[0;31m \u001b[0mX\u001b[0m \u001b[0;34m=\u001b[0m \u001b[0mmodel\u001b[0m\u001b[0;34m.\u001b[0m\u001b[0mpredict\u001b[0m\u001b[0;34m(\u001b[0m\u001b[0mto_append\u001b[0m\u001b[0;34m)\u001b[0m\u001b[0;34m\u001b[0m\u001b[0;34m\u001b[0m\u001b[0m\n\u001b[0m\u001b[1;32m     17\u001b[0m \u001b[0mprint\u001b[0m\u001b[0;34m(\u001b[0m\u001b[0mX\u001b[0m\u001b[0;34m)\u001b[0m\u001b[0;34m\u001b[0m\u001b[0;34m\u001b[0m\u001b[0m\n",
            "\u001b[0;32m/usr/local/lib/python3.6/dist-packages/tensorflow/python/keras/engine/training.py\u001b[0m in \u001b[0;36mpredict\u001b[0;34m(self, x, batch_size, verbose, steps, callbacks, max_queue_size, workers, use_multiprocessing)\u001b[0m\n\u001b[1;32m   1606\u001b[0m           \u001b[0muse_multiprocessing\u001b[0m\u001b[0;34m=\u001b[0m\u001b[0muse_multiprocessing\u001b[0m\u001b[0;34m,\u001b[0m\u001b[0;34m\u001b[0m\u001b[0;34m\u001b[0m\u001b[0m\n\u001b[1;32m   1607\u001b[0m           \u001b[0mmodel\u001b[0m\u001b[0;34m=\u001b[0m\u001b[0mself\u001b[0m\u001b[0;34m,\u001b[0m\u001b[0;34m\u001b[0m\u001b[0;34m\u001b[0m\u001b[0m\n\u001b[0;32m-> 1608\u001b[0;31m           steps_per_execution=self._steps_per_execution)\n\u001b[0m\u001b[1;32m   1609\u001b[0m \u001b[0;34m\u001b[0m\u001b[0m\n\u001b[1;32m   1610\u001b[0m       \u001b[0;31m# Container that configures and calls `tf.keras.Callback`s.\u001b[0m\u001b[0;34m\u001b[0m\u001b[0;34m\u001b[0m\u001b[0;34m\u001b[0m\u001b[0m\n",
            "\u001b[0;32m/usr/local/lib/python3.6/dist-packages/tensorflow/python/keras/engine/data_adapter.py\u001b[0m in \u001b[0;36m__init__\u001b[0;34m(self, x, y, sample_weight, batch_size, steps_per_epoch, initial_epoch, epochs, shuffle, class_weight, max_queue_size, workers, use_multiprocessing, model, steps_per_execution)\u001b[0m\n\u001b[1;32m   1110\u001b[0m         \u001b[0muse_multiprocessing\u001b[0m\u001b[0;34m=\u001b[0m\u001b[0muse_multiprocessing\u001b[0m\u001b[0;34m,\u001b[0m\u001b[0;34m\u001b[0m\u001b[0;34m\u001b[0m\u001b[0m\n\u001b[1;32m   1111\u001b[0m         \u001b[0mdistribution_strategy\u001b[0m\u001b[0;34m=\u001b[0m\u001b[0mds_context\u001b[0m\u001b[0;34m.\u001b[0m\u001b[0mget_strategy\u001b[0m\u001b[0;34m(\u001b[0m\u001b[0;34m)\u001b[0m\u001b[0;34m,\u001b[0m\u001b[0;34m\u001b[0m\u001b[0;34m\u001b[0m\u001b[0m\n\u001b[0;32m-> 1112\u001b[0;31m         model=model)\n\u001b[0m\u001b[1;32m   1113\u001b[0m \u001b[0;34m\u001b[0m\u001b[0m\n\u001b[1;32m   1114\u001b[0m     \u001b[0mstrategy\u001b[0m \u001b[0;34m=\u001b[0m \u001b[0mds_context\u001b[0m\u001b[0;34m.\u001b[0m\u001b[0mget_strategy\u001b[0m\u001b[0;34m(\u001b[0m\u001b[0;34m)\u001b[0m\u001b[0;34m\u001b[0m\u001b[0;34m\u001b[0m\u001b[0m\n",
            "\u001b[0;32m/usr/local/lib/python3.6/dist-packages/tensorflow/python/keras/engine/data_adapter.py\u001b[0m in \u001b[0;36m__init__\u001b[0;34m(self, x, y, sample_weights, sample_weight_modes, batch_size, shuffle, **kwargs)\u001b[0m\n\u001b[1;32m    648\u001b[0m         \u001b[0mbatch_size\u001b[0m\u001b[0;34m=\u001b[0m\u001b[0mbatch_size\u001b[0m\u001b[0;34m,\u001b[0m\u001b[0;34m\u001b[0m\u001b[0;34m\u001b[0m\u001b[0m\n\u001b[1;32m    649\u001b[0m         \u001b[0mshuffle\u001b[0m\u001b[0;34m=\u001b[0m\u001b[0mshuffle\u001b[0m\u001b[0;34m,\u001b[0m\u001b[0;34m\u001b[0m\u001b[0;34m\u001b[0m\u001b[0m\n\u001b[0;32m--> 650\u001b[0;31m         **kwargs)\n\u001b[0m\u001b[1;32m    651\u001b[0m \u001b[0;34m\u001b[0m\u001b[0m\n\u001b[1;32m    652\u001b[0m   \u001b[0;32mdef\u001b[0m \u001b[0mget_dataset\u001b[0m\u001b[0;34m(\u001b[0m\u001b[0mself\u001b[0m\u001b[0;34m)\u001b[0m\u001b[0;34m:\u001b[0m\u001b[0;34m\u001b[0m\u001b[0;34m\u001b[0m\u001b[0m\n",
            "\u001b[0;32m/usr/local/lib/python3.6/dist-packages/tensorflow/python/keras/engine/data_adapter.py\u001b[0m in \u001b[0;36m__init__\u001b[0;34m(self, x, y, sample_weights, sample_weight_modes, batch_size, epochs, steps, shuffle, **kwargs)\u001b[0m\n\u001b[1;32m    271\u001b[0m     \u001b[0minputs\u001b[0m \u001b[0;34m=\u001b[0m \u001b[0mpack_x_y_sample_weight\u001b[0m\u001b[0;34m(\u001b[0m\u001b[0mx\u001b[0m\u001b[0;34m,\u001b[0m \u001b[0my\u001b[0m\u001b[0;34m,\u001b[0m \u001b[0msample_weights\u001b[0m\u001b[0;34m)\u001b[0m\u001b[0;34m\u001b[0m\u001b[0;34m\u001b[0m\u001b[0m\n\u001b[1;32m    272\u001b[0m \u001b[0;34m\u001b[0m\u001b[0m\n\u001b[0;32m--> 273\u001b[0;31m     \u001b[0mnum_samples\u001b[0m \u001b[0;34m=\u001b[0m \u001b[0mset\u001b[0m\u001b[0;34m(\u001b[0m\u001b[0mint\u001b[0m\u001b[0;34m(\u001b[0m\u001b[0mi\u001b[0m\u001b[0;34m.\u001b[0m\u001b[0mshape\u001b[0m\u001b[0;34m[\u001b[0m\u001b[0;36m0\u001b[0m\u001b[0;34m]\u001b[0m\u001b[0;34m)\u001b[0m \u001b[0;32mfor\u001b[0m \u001b[0mi\u001b[0m \u001b[0;32min\u001b[0m \u001b[0mnest\u001b[0m\u001b[0;34m.\u001b[0m\u001b[0mflatten\u001b[0m\u001b[0;34m(\u001b[0m\u001b[0minputs\u001b[0m\u001b[0;34m)\u001b[0m\u001b[0;34m)\u001b[0m\u001b[0;34m.\u001b[0m\u001b[0mpop\u001b[0m\u001b[0;34m(\u001b[0m\u001b[0;34m)\u001b[0m\u001b[0;34m\u001b[0m\u001b[0;34m\u001b[0m\u001b[0m\n\u001b[0m\u001b[1;32m    274\u001b[0m     \u001b[0m_check_data_cardinality\u001b[0m\u001b[0;34m(\u001b[0m\u001b[0minputs\u001b[0m\u001b[0;34m)\u001b[0m\u001b[0;34m\u001b[0m\u001b[0;34m\u001b[0m\u001b[0m\n\u001b[1;32m    275\u001b[0m \u001b[0;34m\u001b[0m\u001b[0m\n",
            "\u001b[0;32m/usr/local/lib/python3.6/dist-packages/tensorflow/python/keras/engine/data_adapter.py\u001b[0m in \u001b[0;36m<genexpr>\u001b[0;34m(.0)\u001b[0m\n\u001b[1;32m    271\u001b[0m     \u001b[0minputs\u001b[0m \u001b[0;34m=\u001b[0m \u001b[0mpack_x_y_sample_weight\u001b[0m\u001b[0;34m(\u001b[0m\u001b[0mx\u001b[0m\u001b[0;34m,\u001b[0m \u001b[0my\u001b[0m\u001b[0;34m,\u001b[0m \u001b[0msample_weights\u001b[0m\u001b[0;34m)\u001b[0m\u001b[0;34m\u001b[0m\u001b[0;34m\u001b[0m\u001b[0m\n\u001b[1;32m    272\u001b[0m \u001b[0;34m\u001b[0m\u001b[0m\n\u001b[0;32m--> 273\u001b[0;31m     \u001b[0mnum_samples\u001b[0m \u001b[0;34m=\u001b[0m \u001b[0mset\u001b[0m\u001b[0;34m(\u001b[0m\u001b[0mint\u001b[0m\u001b[0;34m(\u001b[0m\u001b[0mi\u001b[0m\u001b[0;34m.\u001b[0m\u001b[0mshape\u001b[0m\u001b[0;34m[\u001b[0m\u001b[0;36m0\u001b[0m\u001b[0;34m]\u001b[0m\u001b[0;34m)\u001b[0m \u001b[0;32mfor\u001b[0m \u001b[0mi\u001b[0m \u001b[0;32min\u001b[0m \u001b[0mnest\u001b[0m\u001b[0;34m.\u001b[0m\u001b[0mflatten\u001b[0m\u001b[0;34m(\u001b[0m\u001b[0minputs\u001b[0m\u001b[0;34m)\u001b[0m\u001b[0;34m)\u001b[0m\u001b[0;34m.\u001b[0m\u001b[0mpop\u001b[0m\u001b[0;34m(\u001b[0m\u001b[0;34m)\u001b[0m\u001b[0;34m\u001b[0m\u001b[0;34m\u001b[0m\u001b[0m\n\u001b[0m\u001b[1;32m    274\u001b[0m     \u001b[0m_check_data_cardinality\u001b[0m\u001b[0;34m(\u001b[0m\u001b[0minputs\u001b[0m\u001b[0;34m)\u001b[0m\u001b[0;34m\u001b[0m\u001b[0;34m\u001b[0m\u001b[0m\n\u001b[1;32m    275\u001b[0m \u001b[0;34m\u001b[0m\u001b[0m\n",
            "\u001b[0;32m/usr/local/lib/python3.6/dist-packages/tensorflow/python/framework/tensor_shape.py\u001b[0m in \u001b[0;36m__getitem__\u001b[0;34m(self, key)\u001b[0m\n\u001b[1;32m    887\u001b[0m       \u001b[0;32melse\u001b[0m\u001b[0;34m:\u001b[0m\u001b[0;34m\u001b[0m\u001b[0;34m\u001b[0m\u001b[0m\n\u001b[1;32m    888\u001b[0m         \u001b[0;32mif\u001b[0m \u001b[0mself\u001b[0m\u001b[0;34m.\u001b[0m\u001b[0m_v2_behavior\u001b[0m\u001b[0;34m:\u001b[0m\u001b[0;34m\u001b[0m\u001b[0;34m\u001b[0m\u001b[0m\n\u001b[0;32m--> 889\u001b[0;31m           \u001b[0;32mreturn\u001b[0m \u001b[0mself\u001b[0m\u001b[0;34m.\u001b[0m\u001b[0m_dims\u001b[0m\u001b[0;34m[\u001b[0m\u001b[0mkey\u001b[0m\u001b[0;34m]\u001b[0m\u001b[0;34m.\u001b[0m\u001b[0mvalue\u001b[0m\u001b[0;34m\u001b[0m\u001b[0;34m\u001b[0m\u001b[0m\n\u001b[0m\u001b[1;32m    890\u001b[0m         \u001b[0;32melse\u001b[0m\u001b[0;34m:\u001b[0m\u001b[0;34m\u001b[0m\u001b[0;34m\u001b[0m\u001b[0m\n\u001b[1;32m    891\u001b[0m           \u001b[0;32mreturn\u001b[0m \u001b[0mself\u001b[0m\u001b[0;34m.\u001b[0m\u001b[0m_dims\u001b[0m\u001b[0;34m[\u001b[0m\u001b[0mkey\u001b[0m\u001b[0;34m]\u001b[0m\u001b[0;34m\u001b[0m\u001b[0;34m\u001b[0m\u001b[0m\n",
            "\u001b[0;31mIndexError\u001b[0m: list index out of range"
          ]
        }
      ]
    },
    {
      "cell_type": "code",
      "metadata": {
        "colab": {
          "base_uri": "https://localhost:8080/"
        },
        "id": "c9lBr9K4GS5Y",
        "outputId": "c2b3b4dc-a832-48b1-b56b-bbf1fa04cc55"
      },
      "source": [
        "data = pd.read_csv('dataset.csv')\r\n",
        "data.head()# Dropping unneccesary columns\r\n",
        "data = data.drop(['filename'],axis=1)#Encoding the Labels\r\n",
        "genre_list = data.iloc[:, -1]\r\n",
        "encoder = LabelEncoder()\r\n",
        "y = encoder.fit_transform(genre_list)#Scaling the Feature columns\r\n",
        "scaler = StandardScaler()\r\n",
        "X = scaler.fit_transform(np.array(data.iloc[:, :-1], dtype = float))#\r\n",
        "res = classifier.model.predict(X)\r\n",
        "print(res)"
      ],
      "execution_count": 64,
      "outputs": [
        {
          "output_type": "stream",
          "text": [
            "[[9.87673461e-01 5.62448363e-08 2.50606372e-05 ... 1.38593108e-12\n",
            "  1.31836923e-05 2.91910583e-05]\n",
            " [5.89845330e-03 7.90804916e-04 1.10994153e-01 ... 2.55503608e-07\n",
            "  2.19098001e-06 5.25676769e-05]\n",
            " [9.96483326e-01 1.02949730e-06 6.34401105e-04 ... 9.91863369e-10\n",
            "  2.46093818e-03 5.18858396e-05]\n",
            " ...\n",
            " [1.23127165e-07 1.38172788e-06 6.13357406e-03 ... 4.30135924e-06\n",
            "  4.62005955e-05 9.91163731e-01]\n",
            " [2.49244048e-09 2.48784204e-06 1.85033205e-05 ... 5.94423385e-04\n",
            "  2.79457250e-04 9.76572096e-01]\n",
            " [3.96576338e-03 1.01796786e-07 1.28060972e-04 ... 7.02302657e-07\n",
            "  7.68396705e-02 8.86942565e-01]]\n"
          ],
          "name": "stdout"
        }
      ]
    }
  ]
}